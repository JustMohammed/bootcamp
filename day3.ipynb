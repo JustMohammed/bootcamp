{
 "cells": [
  {
   "cell_type": "markdown",
   "metadata": {},
   "source": [
    "# Bank account"
   ]
  },
  {
   "cell_type": "code",
   "execution_count": null,
   "metadata": {},
   "outputs": [],
   "source": [
    "# ATM\n",
    "balance = 0\n",
    "self = \" \"\n",
    "ID = 0\n",
    "\n",
    "\n",
    "def ATM():\n",
    "    currentBalance = balance\n",
    "    while (True):\n",
    "        print(\"\"\"Welcome to my Bank \n",
    "        Please enter one of the following choices:\n",
    "        1.Check balance\n",
    "        2.Withdraw\n",
    "        3.Deposit\n",
    "        4.Transfer\n",
    "        5.Exit\n",
    "        \"\"\")\n",
    "        choice = input(\"Enter your choice: \")\n",
    "        if choice == \"1\":\n",
    "            print(currentBalance)\n",
    "        elif choice == \"2\":\n",
    "            cash = int(input(\"Enter how much cash you want to withDraw: \"))\n",
    "            while (True):\n",
    "                if cash > 0:\n",
    "                    withDraw()\n",
    "                else:\n",
    "                    print(\"Enter an integer!\")\n",
    "\n",
    "        elif choice == \"3\":\n",
    "            cash = float(input(\"Enter amount to be deposited: \"))\n",
    "            currentBalance += cash\n",
    "\n",
    "            print(\"\\n Amount Deposited:\", cash)\n",
    "        elif choice == \"4\":\n",
    "            currentBalance = currentBalance - cash\n",
    "            ID.currentBalance = ID.currentBalance + cash\n",
    "            return ID.balance()\n",
    "\n",
    "        elif choice == \"5\":\n",
    "            print(\"Exiting the system...\")\n",
    "        else:\n",
    "            print(\"Wrong insertion!\")\n",
    "            return 0\n",
    "\n",
    "\n",
    "\n",
    "    def withDraw(cash, currentBalance):\n",
    "        if cash <= currentBalance:\n",
    "            currentBalance -= cash\n",
    "            print(f\"withDrawing {cash},Your new balance is {currentBalance}\")\n",
    "        else:\n",
    "            print(\"No sufficient funds!\")\n",
    "\n",
    "        return currentBalance\n",
    "\n",
    "    def deposit(cash, self):\n",
    "        amount = float(input(\"Enter amount to be deposited: \"))\n",
    "        self.currentBalance += cash\n",
    "        print(\"\\n Amount Deposited:\", cash)\n",
    "        return self.currentBalance\n",
    "\n",
    "\n",
    "4\n",
    "\n",
    "ATM()"
   ]
  }
 ],
 "metadata": {
  "kernelspec": {
   "display_name": "Python 3",
   "language": "python",
   "name": "python3"
  },
  "language_info": {
   "codemirror_mode": {
    "name": "ipython",
    "version": 3
   },
   "file_extension": ".py",
   "mimetype": "text/x-python",
   "name": "python",
   "nbconvert_exporter": "python",
   "pygments_lexer": "ipython3",
   "version": "3.8.5"
  }
 },
 "nbformat": 4,
 "nbformat_minor": 4
}
