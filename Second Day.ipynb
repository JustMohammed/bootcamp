{
 "cells": [
  {
   "cell_type": "markdown",
   "metadata": {},
   "source": [
    "# Assignment 1"
   ]
  },
  {
   "cell_type": "code",
   "execution_count": null,
   "metadata": {},
   "outputs": [],
   "source": [
    "py =\"python\\n\"\n",
    "print(py*100)"
   ]
  },
  {
   "cell_type": "markdown",
   "metadata": {},
   "source": [
    "# Assignment 2\n"
   ]
  },
  {
   "cell_type": "code",
   "execution_count": 11,
   "metadata": {},
   "outputs": [
    {
     "name": "stdout",
     "output_type": "stream",
     "text": [
      "Enter a number between 0 and 10:0\n",
      "Your guess is too low\n",
      "Try again, Enter a number between 0 and 10:1\n",
      "Your guess is too low\n",
      "Try again, Enter a number between 0 and 10:3\n",
      "You failed, Game Over\n",
      "The number was:  8\n",
      "Your Remaining Trials = 0\n"
     ]
    }
   ],
   "source": [
    "import random\n",
    "RandNum = random.randrange(0,10)\n",
    "guess = int(input(\"Enter a number between 0 and 10:\"))\n",
    "counter =1\n",
    "while guess != RandNum and counter < 3:\n",
    "    if guess < RandNum:\n",
    "        print(\"Your guess is too low\")\n",
    "    else:\n",
    "        print(\"Your guess is too high\")\n",
    "    guess = int(input(\"Try again, Enter a number between 0 and 10:\"))\n",
    "    counter = counter + 1\n",
    "\n",
    "if guess == RandNum:\n",
    "    print(\"Great you got the correct number\")\n",
    "else:\n",
    "    print(\"You failed, Game Over\")\n",
    "    print(\"The number was: \",RandNum)\n",
    "print(\"Your Remaining Trials =\" , 3 - counter)"
   ]
  },
  {
   "cell_type": "markdown",
   "metadata": {},
   "source": [
    "# Assignment 3"
   ]
  },
  {
   "cell_type": "code",
   "execution_count": null,
   "metadata": {},
   "outputs": [],
   "source": [
    "import turtle\n",
    "turtle.shape('turtle')\n",
    "for i in range(4):\n",
    "    turtle.forward(100)\n",
    "    turtle.right(90)\n",
    "    "
   ]
  },
  {
   "cell_type": "code",
   "execution_count": null,
   "metadata": {},
   "outputs": [],
   "source": [
    "import turtle\n",
    "turtle.shape('turtle')\n",
    "x =0\n",
    "for x in range (60):\n",
    "    for i in range(4):\n",
    "        turtle.forward(100)\n",
    "        turtle.right(90)\n",
    "    turtle.right(5)"
   ]
  }
 ],
 "metadata": {
  "kernelspec": {
   "display_name": "Python 3",
   "language": "python",
   "name": "python3"
  }
 },
 "nbformat": 4,
 "nbformat_minor": 4
}
